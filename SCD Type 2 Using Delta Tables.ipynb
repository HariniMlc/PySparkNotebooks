{
  "cells": [
    {
      "cell_type": "markdown",
      "source": [
        "#### Introduction\n",
        "This notebook explores managing historical data changes using Slowly Changing Dimension (SCD) Type 2 within a dimensional model. It combines Delta tables with the Kimball methodology, a data warehousing approach by Ralph Kimball, to effectively handle SCD Type 2 scenarios. \n",
        "\n",
        "This will cover the basics of SCD Type 2 and Delta tables, which offer efficient change tracking and versioning. It will then provide a step-by-step guide to implementing SCD Type 2 with Delta tables, including handling new records, updates, deletions, and expired data. Practical examples and code snippets will be included to help you apply these concepts in your data warehousing projects, enabling you to create reliable and scalable data architectures."
      ],
      "metadata": {
        "nteract": {
          "transient": {
            "deleting": false
          }
        }
      }
    },
    {
      "cell_type": "markdown",
      "source": [
        "##### Slowly Changing Dimensions Type 2\n",
        "\n",
        "SCD Type 2 addresses the challenge of managing historical changes in dimensional data by creating a new row in the dimension table whenever an attribute value changes. This approach allows for the retention of both current and historical versions of dimension records, ensuring a comprehensive view of data evolution.\n",
        "\n",
        "Key aspects of SCD Type 2 include:\n",
        "\n",
        "- **Surrogate Keys**: These artificial keys uniquely identify each version of a dimension record, facilitating efficient tracking of historical changes.\n",
        "- **Start and End Dates**: Each record includes start and end dates to indicate the record’s validity period. The end date may be set as open-ended (e.g., '9999-12-31') to mark the current version.\n",
        "- **Slow Changes**: SCD Type 2 handles infrequent modifications by creating new records for each change, such as updates to customer addresses or product descriptions.\n",
        "- **Historical Integrity**: Rather than updating existing records, SCD Type 2 creates new records to maintain historical accuracy.\n",
        "- **Dimension Table Structure**: The dimension table includes surrogate keys, natural keys, attribute values, and validity dates, evolving over time to capture historical changes without altering or deleting past data.\n"
      ],
      "metadata": {
        "nteract": {
          "transient": {
            "deleting": false
          }
        }
      }
    },
    {
      "cell_type": "markdown",
      "source": [
        "#### Example Case Scenario\n",
        "\n",
        "Consider a company ABC require to keep track of Sales Dimensions for any change happening over time. The Analytics Engineer team suggests using SCD Type 2 with delta tables. Also, they need to track if any record was deleted in the source dataset and mark it.\n",
        "\n",
        "Here we are keeping track of data from Bronze Layer to Bronze Layer"
      ],
      "metadata": {
        "nteract": {
          "transient": {
            "deleting": false
          }
        }
      }
    },
    {
      "cell_type": "markdown",
      "source": [
        "We'll first set up Delta Tables: one for incoming Bronze New Data and one for the Silver Data Dimension, which will act as the target table."
      ],
      "metadata": {
        "nteract": {
          "transient": {
            "deleting": false
          }
        }
      }
    },
    {
      "cell_type": "code",
      "source": [
        "# Libraries Needed\n",
        "from delta.tables import *\n",
        "from pyspark.sql.functions import *\n",
        "from pyspark.sql.window import Window\n",
        "\n",
        "# Path Azure Data lake\n",
        "bronze_path = 'abfss://cfgfs@thorbicfg.dfs.core.windows.net/synapse/workspaces/thorbicfg/warehouse/bronze_gc.db/DimSales' \n",
        "silver_path = 'abfss://cfgfs@thorbicfg.dfs.core.windows.net/synapse/workspaces/thorbicfg/warehouse/silver_gc.db/DimSales_Temp'"
      ],
      "outputs": [],
      "execution_count": 1,
      "metadata": {
        "jupyter": {
          "source_hidden": false,
          "outputs_hidden": false
        },
        "nteract": {
          "transient": {
            "deleting": false
          }
        }
      }
    },
    {
      "cell_type": "code",
      "source": [
        "# Silver data\n",
        "columns = [\"SurrogateKey\",\"DimId\", \"Col1\", \"Col2\",\"Col3\",\"Hash\", \"CurrentFlag\",\"DeletedFlag\" , \"EffectiveFromDate\" , \"EffectiveToDate\" ]\n",
        "data_s = [(100,\"1\", \"200\" , \"500\" , \"800\" , \"d43fac69ca61701ab7e73bcd3243d3eee16d17fd9b272e771219748f44e296bc\" , \"Y\",\"N\" ,\"2023-05-12\",\"2999-12-31\" )\n",
        "        , (102,\"6\", \"300\" , \"900\" , \"250\" , \"214f2d6d2245dfc8f7e23cb9c45d6a3ceb8d920e6894902f38a0e5c8abd3bf60\" , \"Y\",\"N\",\"2023-05-12\",\"2999-12-31\" ) \n",
        "        ,(103,\"13\", \"900\" , None , \"700\" , \"3c47b4483777dc59a611f1623c1c459c2ddd0afe8089af993701fda05f561127\" , \"Y\",\"N\",\"2023-05-12\",\"2999-12-31\" )\n",
        "        ,(104,\"43\", \"340\" , \"359\" , \"9032\" , \"rc9fe69c1076002d1d9e504a8aabb57cf57e8cf6a5ab56220a6ab7010b96b6e8\" , \"Y\",\"N\",\"2023-05-12\",\"2999-12-31\")]"
      ],
      "outputs": [],
      "execution_count": 2,
      "metadata": {}
    },
    {
      "cell_type": "code",
      "source": [
        "# Bronze data\n",
        "columns = [\"SurrogateKey\",\"DimId\", \"Col1\", \"Col2\",\"Col3\",\"Hash\", \"CurrentFlag\",\"DeletedFlag\" , \"EffectiveFromDate\" , \"EffectiveToDate\" ]\n",
        "data_b = [(\"\",\"1\" ,\"200\" , \"500\" , \"800\" , \"\" , \"Y\",\"N\" ,\"2023-05-12\",\"2999-12-31\" )\n",
        "        , (\"\",\"6\",  \"300\" , \"900\" , \"250\" , \"\" , \"Y\",\"N\",\"2023-05-12\",\"2999-12-31\" ) \n",
        "        ,(\"\",\"13\",  \"100\" , None , \"700\" , \"\" , \"Y\",\"N\",\"2023-06-08\",\"2999-12-31\")\n",
        "        ,(\"\",\"59\",  \"1500\" , \"2000\" , \"800\" , \"\" , \"Y\",\"N\",\"2023-06-08\",\"2999-12-31\")]"
      ],
      "outputs": [],
      "execution_count": 3,
      "metadata": {
        "jupyter": {
          "source_hidden": false,
          "outputs_hidden": false
        },
        "nteract": {
          "transient": {
            "deleting": false
          }
        }
      }
    },
    {
      "cell_type": "markdown",
      "source": [
        "The SurrogateKey in the bronze table is initially empty and will be created when loading into the final Silver table. Additionally, the Hash column is empty now and will be generated using data from Col1, Col2, and Col3 to identify differences from the Silver data."
      ],
      "metadata": {
        "nteract": {
          "transient": {
            "deleting": false
          }
        }
      }
    },
    {
      "cell_type": "markdown",
      "source": [
        "Now let us create both data frames:"
      ],
      "metadata": {
        "nteract": {
          "transient": {
            "deleting": false
          }
        }
      }
    },
    {
      "cell_type": "code",
      "source": [
        "silver = spark.createDataFrame(data_s).toDF(*columns)\n",
        "bronze = spark.createDataFrame(data_b).toDF(*columns)"
      ],
      "outputs": [],
      "execution_count": 6,
      "metadata": {
        "jupyter": {
          "source_hidden": false,
          "outputs_hidden": false
        },
        "nteract": {
          "transient": {
            "deleting": false
          }
        }
      }
    },
    {
      "cell_type": "markdown",
      "source": [
        "Create hash for Col1, Col2 and Col3 using sha2 function with a bit length of 256"
      ],
      "metadata": {
        "nteract": {
          "transient": {
            "deleting": false
          }
        }
      }
    },
    {
      "cell_type": "code",
      "source": [
        "HashCols = ['Col1', 'Col2', 'Col3']\n",
        "bronze = bronze.withColumn(\"Hash\", lit(sha2(concat_ws(\"~\", *HashCols), 256)))"
      ],
      "outputs": [],
      "execution_count": 7,
      "metadata": {
        "jupyter": {
          "source_hidden": false,
          "outputs_hidden": false
        },
        "nteract": {
          "transient": {
            "deleting": false
          }
        }
      }
    },
    {
      "cell_type": "markdown",
      "source": [
        "To create a Temporary Surrogate Key for the Bronze data frame:\n",
        "\n",
        "1. Purpose: Surrogate keys help track historical changes and ensure unique identification of each dimension record.\n",
        "3. Current State: Surrogate Key is empty in the Bronze table.\n",
        "5. Method: Use the Window and row_number functions, ordered by 'DimId' and 'Hash' from the Bronze data, to generate unique values.\n",
        "7. Objective: Create a temporary Surrogate Key to avoid collisions with existing keys in the Silver table and support incremental loads by adding the last maximum key from the Silver table."
      ],
      "metadata": {
        "nteract": {
          "transient": {
            "deleting": false
          }
        }
      }
    },
    {
      "cell_type": "code",
      "source": [
        "# Keys for DimSales\n",
        "keys = ['DimId', 'Hash']\n",
        "\n",
        "# Build the dimension surrogate key\n",
        "w = Window().orderBy(*keys)\n",
        "bronze = bronze.withColumn(\"SurrogateKey\", row_number().over(w))\n",
        "bronze = bronze.withColumn(\"SurrogateKey\",col(\"SurrogateKey\").cast('long'))"
      ],
      "outputs": [],
      "execution_count": 8,
      "metadata": {
        "jupyter": {
          "source_hidden": false,
          "outputs_hidden": false
        },
        "nteract": {
          "transient": {
            "deleting": false
          }
        }
      }
    },
    {
      "cell_type": "markdown",
      "source": [
        "<mark>Tip</mark>: Make Sure the newly generated Surrogate Key is the same datatype as the target data"
      ],
      "metadata": {
        "nteract": {
          "transient": {
            "deleting": false
          }
        }
      }
    },
    {
      "cell_type": "code",
      "source": [
        "bronze.printSchema()"
      ],
      "outputs": [],
      "execution_count": 9,
      "metadata": {
        "jupyter": {
          "source_hidden": false,
          "outputs_hidden": false
        },
        "nteract": {
          "transient": {
            "deleting": false
          }
        }
      }
    },
    {
      "cell_type": "code",
      "source": [
        "silver.printSchema()"
      ],
      "outputs": [],
      "execution_count": 11,
      "metadata": {
        "jupyter": {
          "source_hidden": false,
          "outputs_hidden": false
        },
        "nteract": {
          "transient": {
            "deleting": false
          }
        }
      }
    },
    {
      "cell_type": "markdown",
      "source": [
        "Let's review the updated Bronze and Silver data frames, which now include the Temporary Surrogate Key and the new Hash for the bronze data."
      ],
      "metadata": {
        "nteract": {
          "transient": {
            "deleting": false
          }
        }
      }
    },
    {
      "cell_type": "code",
      "source": [
        "bronze.show(truncate=False)"
      ],
      "outputs": [],
      "execution_count": 13,
      "metadata": {
        "jupyter": {
          "source_hidden": false,
          "outputs_hidden": false
        },
        "nteract": {
          "transient": {
            "deleting": false
          }
        }
      }
    },
    {
      "cell_type": "code",
      "source": [
        "silver.show(truncate=False)"
      ],
      "outputs": [],
      "execution_count": 12,
      "metadata": {
        "jupyter": {
          "source_hidden": false,
          "outputs_hidden": false
        },
        "nteract": {
          "transient": {
            "deleting": false
          }
        }
      }
    },
    {
      "cell_type": "markdown",
      "source": [
        "We have successfully prepared the data for our Delta Tables. The next step is to create the Delta Tables using the initial `bronze_path` and `silver_path` in our Azure Data Lake folders."
      ],
      "metadata": {
        "nteract": {
          "transient": {
            "deleting": false
          }
        }
      }
    },
    {
      "cell_type": "code",
      "source": [
        "# Write Dataframe as Delta Table (silver)\n",
        "if not DeltaTable.isDeltaTable(spark, silver_path):\n",
        "    silver.write.format(\"delta\").mode(\"overwrite\").save(silver_path)\n",
        "\n",
        "# Write Dataframe as Delta Table (bronze)\n",
        "if not DeltaTable.isDeltaTable(spark, bronze_path):\n",
        "    bronze.write.format(\"delta\").mode(\"overwrite\").save(bronze_path)"
      ],
      "outputs": [],
      "execution_count": 14,
      "metadata": {
        "jupyter": {
          "source_hidden": false,
          "outputs_hidden": false
        },
        "nteract": {
          "transient": {
            "deleting": false
          }
        }
      }
    },
    {
      "cell_type": "markdown",
      "source": [
        "The objective is to update records in the Silver table based on changes detected from the Bronze table and insert new records. Here's how to achieve it:\n",
        "\n",
        "1. **Update Existing Records:** Flag records with changes as `CurrentFlag = 'N'`. For example, if `DimId = 13` has a new sale for `Col1`, update the record in Silver to indicate it's no longer current.\n",
        "\n",
        "2. **Insert New Records:** Bronze includes new records not present in Silver that need to be inserted.\n",
        "\n",
        "3. **Hashing for Changes:** Use the hash of `Col1`, `Col2`, and `Col3` to detect changes between Bronze and Silver.\n",
        "\n",
        "4. **Technique:** Use a Left Anti Join to find records in Bronze that don't have matching records in Silver. This helps in identifying new records to be inserted.\n",
        "\n",
        "5. **Match Condition:** Ensure the join condition is based on unique values using `DimId` and `Hash`. Filter results to include only records where `CurrentFlag = 'Y'` and `DeletedFlag = 'N'` to focus on current, non-deleted records.\n",
        "\n",
        "This approach ensures you accurately track and update changes while handling new records efficiently."
      ],
      "metadata": {
        "nteract": {
          "transient": {
            "deleting": false
          }
        }
      }
    },
    {
      "cell_type": "code",
      "source": [
        "condition = ['DimId', 'Hash', 'CurrentFlag', 'DeletedFlag']\n",
        "\n",
        "RowsToUpdate = bronze \\\n",
        "            .alias(\"source\") \\\n",
        "            .where(\"CurrentFlag = 'Y' AND DeletedFlag = 'N'\") \\\n",
        "            .join(silver.alias(\"target\"),condition,'leftanti') \\\n",
        "            .select(*columns) \\\n",
        "            .orderBy(col('source.DimId')) "
      ],
      "outputs": [],
      "execution_count": 15,
      "metadata": {
        "jupyter": {
          "source_hidden": false,
          "outputs_hidden": false
        },
        "nteract": {
          "transient": {
            "deleting": false
          }
        }
      }
    },
    {
      "cell_type": "code",
      "source": [
        "RowsToUpdate.show(truncate=False)"
      ],
      "outputs": [],
      "execution_count": 16,
      "metadata": {
        "jupyter": {
          "source_hidden": false,
          "outputs_hidden": false
        },
        "nteract": {
          "transient": {
            "deleting": false
          }
        }
      }
    },
    {
      "cell_type": "markdown",
      "source": [
        "Before proceeding, we will:\n",
        "\n",
        "1. **Increment Surrogate Key:** Assign new surrogate keys to the new records.\n",
        "2. **Merge Changes:** Integrate the updated and new records into the Silver Delta table. \n",
        "\n",
        "This ensures that all new and modified records are accurately reflected in the Silver data."
      ],
      "metadata": {
        "nteract": {
          "transient": {
            "deleting": false
          }
        }
      }
    },
    {
      "cell_type": "code",
      "source": [
        "# Retrieve maximum surrogate key in silver delta table\n",
        "maxTableKey = DeltaTable.forPath(spark, silver_path).toDF().agg({\"SurrogateKey\":\"max\"}).collect()[0][0]"
      ],
      "outputs": [],
      "execution_count": 18,
      "metadata": {
        "jupyter": {
          "source_hidden": false,
          "outputs_hidden": false
        },
        "nteract": {
          "transient": {
            "deleting": false
          }
        }
      }
    },
    {
      "cell_type": "code",
      "source": [
        "print(maxTableKey)"
      ],
      "outputs": [],
      "execution_count": 19,
      "metadata": {
        "jupyter": {
          "source_hidden": false,
          "outputs_hidden": false
        },
        "nteract": {
          "transient": {
            "deleting": false
          }
        }
      }
    },
    {
      "cell_type": "code",
      "source": [
        "# Increment surrogate key in stage table by maxTableKey\n",
        "RowsToUpdate = RowsToUpdate.withColumn(\"SurrogateKey\", col(\"SurrogateKey\") + maxTableKey)"
      ],
      "outputs": [],
      "execution_count": 20,
      "metadata": {
        "jupyter": {
          "source_hidden": false,
          "outputs_hidden": false
        },
        "nteract": {
          "transient": {
            "deleting": false
          }
        }
      }
    },
    {
      "cell_type": "markdown",
      "source": [
        "To avoid key collisions:\n",
        "\n",
        "- For new records, use the highest existing key plus an increment. \n",
        "- For example:\n",
        "  - If the highest current key is 104, the next key would be 104 + 2 = 106 for the first new record.\n",
        "  - For the next new record, it would be 104 + 3 = 107."
      ],
      "metadata": {
        "nteract": {
          "transient": {
            "deleting": false
          }
        }
      }
    },
    {
      "cell_type": "code",
      "source": [
        "RowsToUpdate.show(truncate=False)"
      ],
      "outputs": [],
      "execution_count": 21,
      "metadata": {
        "jupyter": {
          "source_hidden": false,
          "outputs_hidden": false
        },
        "nteract": {
          "transient": {
            "deleting": false
          }
        }
      }
    },
    {
      "cell_type": "code",
      "source": [
        "# Merge statement to expire old records\n",
        "DeltaTable.forPath(spark, silver_path).alias(\"original\").merge(\n",
        "    source = RowsToUpdate.alias(\"updates\"),\n",
        "    condition = 'original.DimId = updates.DimId'\n",
        ").whenMatchedUpdate(\n",
        "    condition = \"original.CurrentFlag = 'Y' AND original.DeletedFlag = 'N' AND original.Hash <> updates.Hash\",\n",
        "    set = {                                      \n",
        "        \"CurrentFlag\": \"'N'\",\n",
        "        \"EffectiveToDate\": lit(current_timestamp())\n",
        "    }\n",
        ").execute()"
      ],
      "outputs": [],
      "execution_count": 22,
      "metadata": {
        "jupyter": {
          "source_hidden": false,
          "outputs_hidden": false
        },
        "nteract": {
          "transient": {
            "deleting": false
          }
        }
      }
    },
    {
      "cell_type": "markdown",
      "source": [
        "### SCD Type 2 (Inserts)\n",
        "\n",
        "After DimId=13 is expired, we are still carrying over in the data frame the new records that need to be inserted."
      ],
      "metadata": {
        "nteract": {
          "transient": {
            "deleting": false
          }
        }
      }
    },
    {
      "cell_type": "code",
      "source": [
        "# Insert all new and updated records\n",
        "RowsToUpdate.select(*columns).write.mode(\"Append\").format(\"delta\").save(silver_path)"
      ],
      "outputs": [],
      "execution_count": 23,
      "metadata": {
        "jupyter": {
          "source_hidden": false,
          "outputs_hidden": false
        },
        "nteract": {
          "transient": {
            "deleting": false
          }
        }
      }
    },
    {
      "cell_type": "markdown",
      "source": [
        "### SCD Type 2 (Deletes)\n",
        "\n",
        "For handling deletions:\n",
        "\n",
        "1. **Identify Deleted Records:** Compare the Silver table with the new incoming Bronze data. Any record in Silver not present in Bronze is considered deleted.\n",
        "\n",
        "2. **Update Status:** Set `CurrentFlag = 'N'` and `DeletedFlag = 'Y'` for these records. The `EffectiveToDate` should be updated to today's date.\n",
        "\n",
        "3. **Ensure Completeness:** Ensure Bronze data only includes rows with `CurrentFlag = 'Y'` and `DeletedFlag = 'N'`, which represents the current and active records.\n",
        "\n",
        "4. **Join Condition:** Use `DimId` to identify matches between Silver and Bronze data. Update records in Silver to reflect deletions based on the absence in Bronze.\n",
        "\n",
        "This approach keeps the Silver data consistent with the source by accurately recording historical deletions."
      ],
      "metadata": {
        "nteract": {
          "transient": {
            "deleting": false
          }
        }
      }
    },
    {
      "cell_type": "code",
      "source": [
        "RowsToDelete = silver.alias('silver').where(\"CurrentFlag = 'Y' AND DeletedFlag = 'N'\") \\\n",
        "    .join(bronze.alias('bronze'), col('bronze.DimId') == col('silver.DimId'), \"leftanti\")"
      ],
      "outputs": [],
      "execution_count": 24,
      "metadata": {
        "jupyter": {
          "source_hidden": false,
          "outputs_hidden": false
        },
        "nteract": {
          "transient": {
            "deleting": false
          }
        }
      }
    },
    {
      "cell_type": "code",
      "source": [
        "# Merge statement to mark as deleted records\n",
        "DeltaTable.forPath(spark, silver_path).alias(\"original\").merge(\n",
        "    source = RowsToDelete.alias(\"deletes\"),\n",
        "    condition = 'original.DimId = deletes.DimId'\n",
        ").whenMatchedUpdate(\n",
        "    condition = \"original.CurrentFlag = 'Y' AND original.DeletedFlag = 'N'\",\n",
        "    set = {                                      \n",
        "        \"DeletedFlag\": \"'Y'\",\n",
        "        \"EffectiveToDate\": lit(current_timestamp())\n",
        "    }\n",
        ").execute()"
      ],
      "outputs": [],
      "execution_count": 25,
      "metadata": {
        "jupyter": {
          "source_hidden": false,
          "outputs_hidden": false
        },
        "nteract": {
          "transient": {
            "deleting": false
          }
        }
      }
    },
    {
      "cell_type": "markdown",
      "source": [
        "Finally, updates, inserts, and deletes are logged and flagged. To show the last current record before deletion, use `CurrentFlag = 'Y'` and `DeletedFlag = 'Y'`. This allows retrieval of the last existing record if historical data is needed.\n",
        "\n",
        "Different techniques, such as grouping by `DimId` and selecting the maximum `EffectiveToDate`, can be used based on your requirements. Choose the method that best fits your needs."
      ],
      "metadata": {
        "nteract": {
          "transient": {
            "deleting": false
          }
        }
      }
    },
    {
      "cell_type": "markdown",
      "source": [
        "**Conclusion:**\n",
        "\n",
        "In this notebook, we've examined how to effectively implement Slowly Changing Dimensions Type 2 (SCD Type 2) using Delta tables, surrogate keys, and PySpark within the Delta Lakehouse architecture. \n",
        "\n",
        "By adopting Ralph Kimball’s SCD Type 2 methodology, organizations gain a thorough view of their dimensional data, which enhances trend analysis, historical performance comparison, and change tracking. This approach ensures data integrity and supports informed decision-making.\n",
        "\n",
        "Start implementing SCD Type 2 with Delta Lakehouse to elevate your data warehousing capabilities."
      ],
      "metadata": {
        "nteract": {
          "transient": {
            "deleting": false
          }
        }
      }
    }
  ],
  "metadata": {
    "kernelspec": {
      "name": "synapse_pyspark",
      "display_name": "Synapse PySpark"
    },
    "language_info": {
      "name": "python"
    },
    "save_output": true,
    "synapse_widget": {
      "version": "0.1",
      "state": {}
    }
  },
  "nbformat": 4,
  "nbformat_minor": 2
}